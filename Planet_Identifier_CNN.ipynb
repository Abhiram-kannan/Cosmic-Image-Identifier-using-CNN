{
 "cells": [
  {
   "cell_type": "code",
   "execution_count": 31,
   "id": "9fa57799-42fb-4b35-818f-d39aac05748f",
   "metadata": {},
   "outputs": [],
   "source": [
    "import os\n",
    "import numpy as np\n",
    "import tensorflow as tf\n",
    "import matplotlib.pyplot as plt\n",
    "import warnings\n",
    "from tensorflow import keras\n",
    "from tensorflow.keras.preprocessing import image_dataset_from_directory\n",
    "from tensorflow.keras import layers\n",
    "from tensorflow.keras.applications import VGG16"
   ]
  },
  {
   "cell_type": "code",
   "execution_count": 32,
   "id": "898c385a-e795-4a76-bfdf-fe244a840e07",
   "metadata": {},
   "outputs": [],
   "source": [
    "plt.rc('figure', autolayout = True)\n",
    "plt.rc('axes', labelweight = 'bold', titleweight = 'bold', titlesize = 18, titlepad = 10, labelsize = 'large')\n",
    "plt.rc('image', cmap = 'magma')\n",
    "warnings.filterwarnings(\"ignore\")"
   ]
  },
  {
   "cell_type": "code",
   "execution_count": 33,
   "id": "6d721857-3e38-43ae-bd37-42da57c8e76f",
   "metadata": {},
   "outputs": [],
   "source": [
    "def seed_set(seed = 31415):\n",
    "    np.random.seed(seed)\n",
    "    tf.random.set_seed(seed)\n",
    "    os.environ['PYTHONHASHSEED'] = str(seed)\n",
    "    os.environ['TF_DETERMINISTIC-OPS'] = '1'\n",
    "seed_set(31415)"
   ]
  },
  {
   "cell_type": "code",
   "execution_count": 34,
   "id": "c79479bb-d665-4b69-8a1e-4592d4cfcf75",
   "metadata": {},
   "outputs": [
    {
     "name": "stdout",
     "output_type": "stream",
     "text": [
      "Training directory: E:/Abhiram/Projects/NexForceTask7/test\n",
      "Validation directory: E:/Abhiram/Projects/NexForceTask7/valid\n",
      "Found 52 files belonging to 8 classes.\n",
      "Found 52 files belonging to 8 classes.\n"
     ]
    }
   ],
   "source": [
    "train_dir = 'E:/Abhiram/Projects/NexForceTask7/test'\n",
    "valid_dir = 'E:/Abhiram/Projects/NexForceTask7/valid'\n",
    "\n",
    "print(\"Training directory:\",train_dir)\n",
    "print(\"Validation directory:\",valid_dir)\n",
    "\n",
    "ds_train_ = image_dataset_from_directory(\n",
    "    train_dir,\n",
    "    labels = 'inferred',\n",
    "    label_mode = 'categorical', \n",
    "    image_size = [128, 128],\n",
    "    interpolation = 'nearest',\n",
    "    batch_size = 64,\n",
    "    shuffle = True,\n",
    ")\n",
    "\n",
    "ds_valid_ = image_dataset_from_directory(\n",
    "    train_dir,\n",
    "    labels = 'inferred',\n",
    "    label_mode = 'categorical', \n",
    "    image_size = [128, 128],\n",
    "    interpolation = 'nearest',\n",
    "    batch_size = 64,\n",
    "    shuffle = False,\n",
    ")\n"
   ]
  },
  {
   "cell_type": "code",
   "execution_count": 35,
   "id": "ccf38806-f1e3-4f20-8465-18b21264e512",
   "metadata": {},
   "outputs": [],
   "source": [
    "def convert_to_float(image, label):\n",
    "    image = tf.image.convert_image_dtype(image, dtype = tf.float32)\n",
    "    return image, label\n",
    "\n",
    "AUTOTUNE = tf.data.experimental.AUTOTUNE\n",
    "ds_train = (\n",
    "    ds_train_\n",
    "    .map(convert_to_float)\n",
    "    .cache()\n",
    "    .prefetch(buffer_size = AUTOTUNE)\n",
    ")\n",
    "ds_valid = (\n",
    "    ds_valid_\n",
    "    .map(convert_to_float)\n",
    "    .cache()\n",
    "    .prefetch(buffer_size = AUTOTUNE)\n",
    ")"
   ]
  },
  {
   "cell_type": "code",
   "execution_count": 36,
   "id": "813d6404-1b1d-4553-a35f-ee81df53d40c",
   "metadata": {},
   "outputs": [],
   "source": [
    "pretrained_base = VGG16(weights = 'imagenet',include_top = False, input_shape = (128,128,3))\n",
    "\n",
    "pretrained_base.trainable = False"
   ]
  },
  {
   "cell_type": "code",
   "execution_count": 37,
   "id": "7d23e6d9-5efa-406b-912e-fcf0a51aa4bb",
   "metadata": {},
   "outputs": [
    {
     "name": "stdout",
     "output_type": "stream",
     "text": [
      "Epoch 1/30\n",
      "\u001b[1m1/1\u001b[0m \u001b[32m━━━━━━━━━━━━━━━━━━━━\u001b[0m\u001b[37m\u001b[0m \u001b[1m6s\u001b[0m 6s/step - accuracy: 0.0962 - loss: 2.8449 - val_accuracy: 0.3846 - val_loss: 2.0132\n",
      "Epoch 2/30\n",
      "\u001b[1m1/1\u001b[0m \u001b[32m━━━━━━━━━━━━━━━━━━━━\u001b[0m\u001b[37m\u001b[0m \u001b[1m4s\u001b[0m 4s/step - accuracy: 0.3654 - loss: 2.3703 - val_accuracy: 0.5000 - val_loss: 1.2367\n",
      "Epoch 3/30\n",
      "\u001b[1m1/1\u001b[0m \u001b[32m━━━━━━━━━━━━━━━━━━━━\u001b[0m\u001b[37m\u001b[0m \u001b[1m5s\u001b[0m 5s/step - accuracy: 0.5769 - loss: 1.5453 - val_accuracy: 0.8654 - val_loss: 0.6212\n",
      "Epoch 4/30\n",
      "\u001b[1m1/1\u001b[0m \u001b[32m━━━━━━━━━━━━━━━━━━━━\u001b[0m\u001b[37m\u001b[0m \u001b[1m5s\u001b[0m 5s/step - accuracy: 0.7500 - loss: 0.7671 - val_accuracy: 0.9231 - val_loss: 0.4083\n",
      "Epoch 5/30\n",
      "\u001b[1m1/1\u001b[0m \u001b[32m━━━━━━━━━━━━━━━━━━━━\u001b[0m\u001b[37m\u001b[0m \u001b[1m6s\u001b[0m 6s/step - accuracy: 0.7692 - loss: 0.6180 - val_accuracy: 0.9231 - val_loss: 0.2823\n",
      "Epoch 6/30\n",
      "\u001b[1m1/1\u001b[0m \u001b[32m━━━━━━━━━━━━━━━━━━━━\u001b[0m\u001b[37m\u001b[0m \u001b[1m6s\u001b[0m 6s/step - accuracy: 0.8269 - loss: 0.6184 - val_accuracy: 0.9231 - val_loss: 0.2376\n",
      "Epoch 7/30\n",
      "\u001b[1m1/1\u001b[0m \u001b[32m━━━━━━━━━━━━━━━━━━━━\u001b[0m\u001b[37m\u001b[0m \u001b[1m5s\u001b[0m 5s/step - accuracy: 0.7500 - loss: 0.4910 - val_accuracy: 0.9231 - val_loss: 0.2249\n",
      "Epoch 8/30\n",
      "\u001b[1m1/1\u001b[0m \u001b[32m━━━━━━━━━━━━━━━━━━━━\u001b[0m\u001b[37m\u001b[0m \u001b[1m6s\u001b[0m 6s/step - accuracy: 0.8654 - loss: 0.4546 - val_accuracy: 0.9231 - val_loss: 0.1842\n",
      "Epoch 9/30\n",
      "\u001b[1m1/1\u001b[0m \u001b[32m━━━━━━━━━━━━━━━━━━━━\u001b[0m\u001b[37m\u001b[0m \u001b[1m6s\u001b[0m 6s/step - accuracy: 0.8654 - loss: 0.4089 - val_accuracy: 1.0000 - val_loss: 0.1363\n",
      "Epoch 10/30\n",
      "\u001b[1m1/1\u001b[0m \u001b[32m━━━━━━━━━━━━━━━━━━━━\u001b[0m\u001b[37m\u001b[0m \u001b[1m6s\u001b[0m 6s/step - accuracy: 0.9038 - loss: 0.2254 - val_accuracy: 0.9231 - val_loss: 0.1379\n",
      "Epoch 11/30\n",
      "\u001b[1m1/1\u001b[0m \u001b[32m━━━━━━━━━━━━━━━━━━━━\u001b[0m\u001b[37m\u001b[0m \u001b[1m6s\u001b[0m 6s/step - accuracy: 0.9615 - loss: 0.2425 - val_accuracy: 0.9231 - val_loss: 0.1424\n",
      "Epoch 12/30\n",
      "\u001b[1m1/1\u001b[0m \u001b[32m━━━━━━━━━━━━━━━━━━━━\u001b[0m\u001b[37m\u001b[0m \u001b[1m5s\u001b[0m 5s/step - accuracy: 0.9038 - loss: 0.3147 - val_accuracy: 0.9231 - val_loss: 0.1234\n",
      "Epoch 13/30\n",
      "\u001b[1m1/1\u001b[0m \u001b[32m━━━━━━━━━━━━━━━━━━━━\u001b[0m\u001b[37m\u001b[0m \u001b[1m5s\u001b[0m 5s/step - accuracy: 0.9615 - loss: 0.1595 - val_accuracy: 0.9231 - val_loss: 0.0980\n",
      "Epoch 14/30\n",
      "\u001b[1m1/1\u001b[0m \u001b[32m━━━━━━━━━━━━━━━━━━━━\u001b[0m\u001b[37m\u001b[0m \u001b[1m6s\u001b[0m 6s/step - accuracy: 0.9231 - loss: 0.1894 - val_accuracy: 1.0000 - val_loss: 0.0793\n",
      "Epoch 15/30\n",
      "\u001b[1m1/1\u001b[0m \u001b[32m━━━━━━━━━━━━━━━━━━━━\u001b[0m\u001b[37m\u001b[0m \u001b[1m6s\u001b[0m 6s/step - accuracy: 0.9038 - loss: 0.1706 - val_accuracy: 1.0000 - val_loss: 0.0735\n",
      "Epoch 16/30\n",
      "\u001b[1m1/1\u001b[0m \u001b[32m━━━━━━━━━━━━━━━━━━━━\u001b[0m\u001b[37m\u001b[0m \u001b[1m6s\u001b[0m 6s/step - accuracy: 0.9808 - loss: 0.0826 - val_accuracy: 1.0000 - val_loss: 0.0749\n",
      "Epoch 17/30\n",
      "\u001b[1m1/1\u001b[0m \u001b[32m━━━━━━━━━━━━━━━━━━━━\u001b[0m\u001b[37m\u001b[0m \u001b[1m5s\u001b[0m 5s/step - accuracy: 0.9615 - loss: 0.1317 - val_accuracy: 1.0000 - val_loss: 0.0689\n",
      "Epoch 18/30\n",
      "\u001b[1m1/1\u001b[0m \u001b[32m━━━━━━━━━━━━━━━━━━━━\u001b[0m\u001b[37m\u001b[0m \u001b[1m5s\u001b[0m 5s/step - accuracy: 1.0000 - loss: 0.0631 - val_accuracy: 1.0000 - val_loss: 0.0596\n",
      "Epoch 19/30\n",
      "\u001b[1m1/1\u001b[0m \u001b[32m━━━━━━━━━━━━━━━━━━━━\u001b[0m\u001b[37m\u001b[0m \u001b[1m6s\u001b[0m 6s/step - accuracy: 0.9808 - loss: 0.0906 - val_accuracy: 1.0000 - val_loss: 0.0513\n",
      "Epoch 20/30\n",
      "\u001b[1m1/1\u001b[0m \u001b[32m━━━━━━━━━━━━━━━━━━━━\u001b[0m\u001b[37m\u001b[0m \u001b[1m6s\u001b[0m 6s/step - accuracy: 0.9615 - loss: 0.0982 - val_accuracy: 1.0000 - val_loss: 0.0437\n",
      "Epoch 21/30\n",
      "\u001b[1m1/1\u001b[0m \u001b[32m━━━━━━━━━━━━━━━━━━━━\u001b[0m\u001b[37m\u001b[0m \u001b[1m6s\u001b[0m 6s/step - accuracy: 0.9615 - loss: 0.1183 - val_accuracy: 1.0000 - val_loss: 0.0400\n",
      "Epoch 22/30\n",
      "\u001b[1m1/1\u001b[0m \u001b[32m━━━━━━━━━━━━━━━━━━━━\u001b[0m\u001b[37m\u001b[0m \u001b[1m5s\u001b[0m 5s/step - accuracy: 0.9808 - loss: 0.0632 - val_accuracy: 1.0000 - val_loss: 0.0369\n",
      "Epoch 23/30\n",
      "\u001b[1m1/1\u001b[0m \u001b[32m━━━━━━━━━━━━━━━━━━━━\u001b[0m\u001b[37m\u001b[0m \u001b[1m5s\u001b[0m 5s/step - accuracy: 0.9808 - loss: 0.0771 - val_accuracy: 1.0000 - val_loss: 0.0343\n",
      "Epoch 24/30\n",
      "\u001b[1m1/1\u001b[0m \u001b[32m━━━━━━━━━━━━━━━━━━━━\u001b[0m\u001b[37m\u001b[0m \u001b[1m6s\u001b[0m 6s/step - accuracy: 1.0000 - loss: 0.0540 - val_accuracy: 1.0000 - val_loss: 0.0315\n",
      "Epoch 25/30\n",
      "\u001b[1m1/1\u001b[0m \u001b[32m━━━━━━━━━━━━━━━━━━━━\u001b[0m\u001b[37m\u001b[0m \u001b[1m6s\u001b[0m 6s/step - accuracy: 0.9808 - loss: 0.0778 - val_accuracy: 1.0000 - val_loss: 0.0300\n",
      "Epoch 26/30\n",
      "\u001b[1m1/1\u001b[0m \u001b[32m━━━━━━━━━━━━━━━━━━━━\u001b[0m\u001b[37m\u001b[0m \u001b[1m6s\u001b[0m 6s/step - accuracy: 1.0000 - loss: 0.0474 - val_accuracy: 1.0000 - val_loss: 0.0279\n",
      "Epoch 27/30\n",
      "\u001b[1m1/1\u001b[0m \u001b[32m━━━━━━━━━━━━━━━━━━━━\u001b[0m\u001b[37m\u001b[0m \u001b[1m6s\u001b[0m 6s/step - accuracy: 1.0000 - loss: 0.0384 - val_accuracy: 1.0000 - val_loss: 0.0262\n",
      "Epoch 28/30\n",
      "\u001b[1m1/1\u001b[0m \u001b[32m━━━━━━━━━━━━━━━━━━━━\u001b[0m\u001b[37m\u001b[0m \u001b[1m5s\u001b[0m 5s/step - accuracy: 0.9615 - loss: 0.0645 - val_accuracy: 1.0000 - val_loss: 0.0248\n",
      "Epoch 29/30\n",
      "\u001b[1m1/1\u001b[0m \u001b[32m━━━━━━━━━━━━━━━━━━━━\u001b[0m\u001b[37m\u001b[0m \u001b[1m6s\u001b[0m 6s/step - accuracy: 1.0000 - loss: 0.0258 - val_accuracy: 1.0000 - val_loss: 0.0236\n",
      "Epoch 30/30\n",
      "\u001b[1m1/1\u001b[0m \u001b[32m━━━━━━━━━━━━━━━━━━━━\u001b[0m\u001b[37m\u001b[0m \u001b[1m6s\u001b[0m 6s/step - accuracy: 1.0000 - loss: 0.0453 - val_accuracy: 1.0000 - val_loss: 0.0226\n"
     ]
    }
   ],
   "source": [
    "#build\n",
    "model = keras.Sequential([\n",
    "    pretrained_base,\n",
    "    layers.Flatten(),\n",
    "    layers.Dense(256, activation = 'relu'),\n",
    "    layers.Dropout(0.5),\n",
    "    layers.Dense(8, activation = 'softmax')\n",
    "])\n",
    "#compile\n",
    "model.compile(\n",
    "    optimizer = 'adam',\n",
    "    loss = 'categorical_crossentropy',\n",
    "    metrics = ['accuracy']\n",
    ")\n",
    "\n",
    "#train\n",
    "history = model.fit(\n",
    "    ds_train,validation_data = ds_valid,\n",
    "    epochs = 30,\n",
    "    verbose = 1\n",
    ")\n"
   ]
  },
  {
   "cell_type": "code",
   "execution_count": 38,
   "id": "ec663541-72ed-43e5-baaf-8c349fd10a75",
   "metadata": {},
   "outputs": [],
   "source": [
    "labels = ['Mercury', 'Venus', 'Earth', 'Mars', 'Jupiter', 'Saturn', 'Uranus', 'Neptune']"
   ]
  },
  {
   "cell_type": "code",
   "execution_count": 39,
   "id": "6140fcea-3dfe-4d93-ada5-b60d4eb384ee",
   "metadata": {},
   "outputs": [],
   "source": [
    "#preprocess image\n",
    "def preprocess_img(image_path):\n",
    "    image = tf.io.read_file(image_path)\n",
    "    image = tf.image.decode_jpeg(image, channels = 3)\n",
    "    image = tf.image.resize(image, [128,128])\n",
    "    image = tf.cast(image, tf.float32) / 255.0\n",
    "    return image"
   ]
  },
  {
   "cell_type": "code",
   "execution_count": 40,
   "id": "389ff05a-47d2-4b1a-be67-d2e929087e69",
   "metadata": {},
   "outputs": [],
   "source": [
    "def predict_class(image_path):\n",
    "    image = preprocess_img(image_path)\n",
    "    image = tf.expand_dims(image, axis = 0)\n",
    "    predictions = model.predict(image)\n",
    "\n",
    "    predicted_index = tf.argmax(predictions[0]).numpy()\n",
    "    predicted_class = labels[predicted_index]\n",
    "    return predicted_class"
   ]
  },
  {
   "cell_type": "code",
   "execution_count": 48,
   "id": "bab2ff3b-3b93-4456-bf79-d78254d8fab2",
   "metadata": {},
   "outputs": [
    {
     "name": "stdout",
     "output_type": "stream",
     "text": [
      "\u001b[1m1/1\u001b[0m \u001b[32m━━━━━━━━━━━━━━━━━━━━\u001b[0m\u001b[37m\u001b[0m \u001b[1m0s\u001b[0m 184ms/step\n",
      "The predicted planet is:  Saturn\n"
     ]
    },
    {
     "data": {
      "text/plain": [
       "'Paths of test images\\nMercury: E:/Abhiram/Projects/NexForceTask7/planets/Mercury1.jpg\\nVenus: E:/Abhiram/Projects/NexForceTask7/planets/Venus1.jpg\\nEarth: E:/Abhiram/Projects/NexForceTask7/planets/Earth1.jpg\\nMars: E:/Abhiram/Projects/NexForceTask7/planets/Mars1.jpg\\nJupiter: E:/Abhiram/Projects/NexForceTask7/planets/Jupiter1.jpg\\nSaturn: E:/Abhiram/Projects/NexForceTask7/planets/Saturn1.jpg\\nUranus: E:/Abhiram/Projects/NexForceTask7/planets/Uranus1.jpg\\nNeptune E:/Abhiram/Projects/NexForceTask7/planets/Neptune1.jpg\\n'"
      ]
     },
     "execution_count": 48,
     "metadata": {},
     "output_type": "execute_result"
    }
   ],
   "source": [
    "#test\n",
    "image_path = 'E:/Abhiram/Projects/NexForceTask7/planets/Saturn1.jpg'\n",
    "\n",
    "planet = predict_class(image_path)\n",
    "print(\"The predicted planet is: \", planet)\n",
    "\n",
    "\n",
    "\"\"\"Paths of test images\n",
    "Mercury: E:/Abhiram/Projects/NexForceTask7/planets/Mercury1.jpg\n",
    "Venus: E:/Abhiram/Projects/NexForceTask7/planets/Venus1.jpg\n",
    "Earth: E:/Abhiram/Projects/NexForceTask7/planets/Earth1.jpg\n",
    "Mars: E:/Abhiram/Projects/NexForceTask7/planets/Mars1.jpg\n",
    "Jupiter: E:/Abhiram/Projects/NexForceTask7/planets/Jupiter1.jpg\n",
    "Saturn: E:/Abhiram/Projects/NexForceTask7/planets/Saturn1.jpg\n",
    "Uranus: E:/Abhiram/Projects/NexForceTask7/planets/Uranus1.jpg\n",
    "Neptune E:/Abhiram/Projects/NexForceTask7/planets/Neptune1.jpg\n",
    "\"\"\""
   ]
  },
  {
   "cell_type": "code",
   "execution_count": null,
   "id": "731b9e45-e99f-454a-8e6c-75d000306aa4",
   "metadata": {},
   "outputs": [],
   "source": []
  },
  {
   "cell_type": "code",
   "execution_count": null,
   "id": "531bca08-77a6-484e-b05e-5549ac843d35",
   "metadata": {},
   "outputs": [],
   "source": []
  }
 ],
 "metadata": {
  "kernelspec": {
   "display_name": "Python 3 (ipykernel)",
   "language": "python",
   "name": "python3"
  },
  "language_info": {
   "codemirror_mode": {
    "name": "ipython",
    "version": 3
   },
   "file_extension": ".py",
   "mimetype": "text/x-python",
   "name": "python",
   "nbconvert_exporter": "python",
   "pygments_lexer": "ipython3",
   "version": "3.12.1"
  }
 },
 "nbformat": 4,
 "nbformat_minor": 5
}
